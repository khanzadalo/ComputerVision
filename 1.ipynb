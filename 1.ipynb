{
 "cells": [
  {
   "cell_type": "markdown",
   "metadata": {
    "id": "c5ZPA75xN0oC"
   },
   "source": [
    " # Computer Vision with Neural Networks\n",
    "\n",
    "---\n",
    "\n",
    "#### from Zero to Hero"
   ]
  },
  {
   "cell_type": "markdown",
   "metadata": {
    "id": "A6dK21hGOAFd"
   },
   "source": []
  },
  {
   "cell_type": "code",
   "execution_count": 4,
   "metadata": {
    "ExecuteTime": {
     "end_time": "2024-06-03T09:00:41.206507300Z",
     "start_time": "2024-06-03T09:00:36.532564600Z"
    },
    "id": "M_bjswMS7Dw0"
   },
   "outputs": [],
   "source": [
    "import torch"
   ]
  },
  {
   "cell_type": "markdown",
   "metadata": {
    "collapsed": false
   },
   "source": [
    "## Understanding Tensors: The ABCs of PyTorch"
   ]
  },
  {
   "cell_type": "code",
   "execution_count": 6,
   "metadata": {
    "ExecuteTime": {
     "end_time": "2024-06-03T09:15:34.464261300Z",
     "start_time": "2024-06-03T09:15:34.403667500Z"
    },
    "colab": {
     "base_uri": "https://localhost:8080/"
    },
    "id": "QNICvDq47aDF",
    "outputId": "b244c289-98ae-47eb-d55a-f1fe0d00b821"
   },
   "outputs": [
    {
     "name": "stdout",
     "output_type": "stream",
     "text": [
      "1D Tensor: \n",
      " tensor([1, 2, 3, 4, 5])\n",
      "2D Tensor: \n",
      " tensor([[1, 2],\n",
      "        [3, 4]])\n",
      "3D Tensor: \n",
      " tensor([[[1, 2],\n",
      "         [3, 4]],\n",
      "\n",
      "        [[5, 6],\n",
      "         [7, 8]]])\n"
     ]
    }
   ],
   "source": [
    "tensor_1d = torch.tensor([1, 2, 3, 4, 5])\n",
    "print('1D Tensor: \\n', tensor_1d)\n",
    "\n",
    "tensor_2d = torch.tensor([[1, 2], [3, 4]])\n",
    "print('2D Tensor: \\n', tensor_2d)\n",
    "\n",
    "tensor_3d = torch.tensor([[[1, 2], [3, 4]],[[5, 6], [7, 8]]])\n",
    "print('3D Tensor: \\n', tensor_3d)"
   ]
  },
  {
   "cell_type": "markdown",
   "metadata": {
    "collapsed": false
   },
   "source": [
    "## Understanding Element-wise Operations"
   ]
  },
  {
   "cell_type": "code",
   "execution_count": 18,
   "metadata": {
    "ExecuteTime": {
     "end_time": "2024-06-03T09:34:32.478159900Z",
     "start_time": "2024-06-03T09:34:32.426698200Z"
    },
    "colab": {
     "base_uri": "https://localhost:8080/"
    },
    "id": "Y25xan7HGYGQ",
    "outputId": "3a46d9f3-8b47-4004-e520-cc3ceca7a823"
   },
   "outputs": [
    {
     "name": "stdout",
     "output_type": "stream",
     "text": [
      "Added Tensor: \n",
      " tensor([5, 7, 9])\n",
      "Subtracted Tensors: \n",
      " tensor([-3, -3, -3])\n",
      "Multiplied Tensor: \n",
      " tensor([ 4, 10, 18])\n",
      "Divided Tensors: \n",
      " tensor([0.2500, 0.4000, 0.5000])\n"
     ]
    }
   ],
   "source": [
    "tensor_a = torch.tensor([1, 2, 3])\n",
    "tensor_b = torch.tensor([4, 5, 6])\n",
    "\n",
    "# Adding the tensors\n",
    "added_tensor = tensor_a + tensor_b\n",
    "print(\"Added Tensor: \\n\", added_tensor)\n",
    "\n",
    "# Subtracting the tensors\n",
    "subtracted_tensors = tensor_a - tensor_b\n",
    "print(\"Subtracted Tensors: \\n\", subtracted_tensors)\n",
    "\n",
    "# Multiplying the tensors\n",
    "multiplied_tensor = tensor_a * tensor_b\n",
    "print(\"Multiplied Tensor: \\n\", multiplied_tensor)\n",
    "\n",
    "# Dividing the tensors\n",
    "divided_tensors = tensor_a / tensor_b\n",
    "print(\"Divided Tensors: \\n\", divided_tensors)\n"
   ]
  },
  {
   "cell_type": "markdown",
   "metadata": {
    "collapsed": false
   },
   "source": [
    "• Tensor A: [1, 2, 3]\n",
    "• Tensor B: [4, 5, 6]\n",
    "When we add these tensors, PyTorch does this:\n",
    "• 1 (from Tensor A) + 4 (from Tensor B) = 5\n",
    "• 2 (from Tensor A) + 5 (from Tensor B) = 7\n",
    "• 3 (from Tensor A) + 6 (from Tensor B) = 9\n",
    "So, the result is a new tensor: [5, 7, 9]. Each element in this resulting tensor is\n",
    "the sum of the corresponding elements from the two original tensors."
   ]
  },
  {
   "cell_type": "markdown",
   "metadata": {
    "collapsed": false
   },
   "source": [
    "## Playing with Randomness: torch.rand"
   ]
  },
  {
   "cell_type": "code",
   "execution_count": 8,
   "metadata": {
    "ExecuteTime": {
     "end_time": "2024-06-03T09:15:38.713069200Z",
     "start_time": "2024-06-03T09:15:38.641073100Z"
    },
    "colab": {
     "base_uri": "https://localhost:8080/"
    },
    "id": "-H0htJZHH_RI",
    "outputId": "8c7f4ffd-ad8c-4c83-d88a-7bb8de6a0498"
   },
   "outputs": [
    {
     "name": "stdout",
     "output_type": "stream",
     "text": [
      "Random Tensor: \n",
      " tensor([[0.7672, 0.9908, 0.6795],\n",
      "        [0.7022, 0.4510, 0.6356],\n",
      "        [0.5258, 0.8275, 0.8153]])\n"
     ]
    }
   ],
   "source": [
    "# Creating a tensor with random numbers\n",
    "random_tensor = torch.rand(3, 3) # A 3*3 tensor\n",
    "print(\"Random Tensor: \\n\", random_tensor)"
   ]
  },
  {
   "cell_type": "markdown",
   "metadata": {
    "collapsed": false
   },
   "source": [
    "Here, torch.rand(3, 3) creates a 3x3 tensor filled with random numbers between 0 and 1."
   ]
  },
  {
   "cell_type": "markdown",
   "metadata": {
    "collapsed": false
   },
   "source": [
    "## Filling with Zeros: torch.zeros"
   ]
  },
  {
   "cell_type": "code",
   "execution_count": 9,
   "metadata": {
    "ExecuteTime": {
     "end_time": "2024-06-03T09:15:40.004133Z",
     "start_time": "2024-06-03T09:15:39.956118200Z"
    },
    "colab": {
     "base_uri": "https://localhost:8080/"
    },
    "id": "ES_jv7eLJY6x",
    "outputId": "efaea91a-3deb-4e93-b7bf-ff1d85314fd4"
   },
   "outputs": [
    {
     "name": "stdout",
     "output_type": "stream",
     "text": [
      "Zeros Tensor: \n",
      " tensor([[0., 0.],\n",
      "        [0., 0.]])\n"
     ]
    }
   ],
   "source": [
    "# Creating a tensor filled with zeros\n",
    "zeros_tensor = torch.zeros(2, 2)\n",
    "print(\"Zeros Tensor: \\n\", zeros_tensor)"
   ]
  },
  {
   "cell_type": "markdown",
   "metadata": {
    "collapsed": false
   },
   "source": [
    "This command creates a 2x2 tensor where every number is 0"
   ]
  },
  {
   "cell_type": "markdown",
   "metadata": {
    "collapsed": false
   },
   "source": [
    "## Filling with Ones: torch.ones"
   ]
  },
  {
   "cell_type": "markdown",
   "metadata": {
    "collapsed": false
   },
   "source": [
    "Similarly, if we need a tensor where all elements are 1, we use torch.ones:"
   ]
  },
  {
   "cell_type": "code",
   "execution_count": 10,
   "metadata": {
    "ExecuteTime": {
     "end_time": "2024-06-03T09:15:42.210099500Z",
     "start_time": "2024-06-03T09:15:42.152885100Z"
    },
    "colab": {
     "base_uri": "https://localhost:8080/"
    },
    "id": "Zw3xZnvAJkoo",
    "outputId": "af37a029-558d-4fa3-bad7-392495d7e6a0"
   },
   "outputs": [
    {
     "name": "stdout",
     "output_type": "stream",
     "text": [
      "Ones Tensor: \n",
      " tensor([[1., 1.],\n",
      "        [1., 1.]])\n"
     ]
    }
   ],
   "source": [
    "# Creating a tensor filled with ones\n",
    "ones_tensor = torch.ones(2, 2)\n",
    "print(\"Ones Tensor: \\n\", ones_tensor)"
   ]
  },
  {
   "cell_type": "markdown",
   "metadata": {
    "collapsed": false
   },
   "source": [
    "## Changing Shapes: reshape and view"
   ]
  },
  {
   "cell_type": "code",
   "execution_count": 11,
   "metadata": {
    "ExecuteTime": {
     "end_time": "2024-06-03T09:15:55.062943200Z",
     "start_time": "2024-06-03T09:15:55.040402Z"
    },
    "colab": {
     "base_uri": "https://localhost:8080/"
    },
    "id": "ucFfs-VpJxhg",
    "outputId": "772f4164-cc37-4a42-c9a6-bbcf89151875"
   },
   "outputs": [
    {
     "name": "stdout",
     "output_type": "stream",
     "text": [
      "Original Tensor: \n",
      " tensor([[0.6687, 0.8057, 0.6203, 0.1573],\n",
      "        [0.6243, 0.6127, 0.9961, 0.7016],\n",
      "        [0.6696, 0.5047, 0.3229, 0.1257],\n",
      "        [0.6019, 0.4849, 0.4975, 0.2340]])\n",
      "Reshaped Tensor: \n",
      " tensor([[0.6687, 0.8057, 0.6203, 0.1573, 0.6243, 0.6127, 0.9961, 0.7016],\n",
      "        [0.6696, 0.5047, 0.3229, 0.1257, 0.6019, 0.4849, 0.4975, 0.2340]])\n",
      "Viewed Tensor: \n",
      " tensor([[0.6687, 0.8057, 0.6203, 0.1573, 0.6243, 0.6127, 0.9961, 0.7016],\n",
      "        [0.6696, 0.5047, 0.3229, 0.1257, 0.6019, 0.4849, 0.4975, 0.2340]])\n"
     ]
    }
   ],
   "source": [
    "# Reshaping a tensor\n",
    "original_tensor = torch.rand(4, 4)\n",
    "print(\"Original Tensor: \\n\", original_tensor)\n",
    "\n",
    "reshaped_tensor = original_tensor.reshape(2, 8)\n",
    "print(\"Reshaped Tensor: \\n\", reshaped_tensor)\n",
    "\n",
    "# Another way to reshape\n",
    "viewed_tensor = original_tensor.view(2, 8)\n",
    "print(\"Viewed Tensor: \\n\", viewed_tensor)"
   ]
  },
  {
   "cell_type": "markdown",
   "metadata": {
    "collapsed": false
   },
   "source": [
    "Here, we start with a 4x4 tensor and reshape it into a 2x8 tensor. Both reshape \n",
    "and view do similar things, but they handle memory differently. It’s like choosing \n",
    "between different paths in a garden – the scenery changes, but the destination remains \n",
    "the same.\n",
    "\n",
    "\n",
    "#### Understanding reshape\n",
    "Think of reshape as rearranging the blocks on a spacious table. When you use\n",
    "reshape, PyTorch checks if it needs to shuffle the blocks around to make the shape\n",
    "you want. Sometimes, if the new shape is too different, PyTorch may decide to pick\n",
    "up the blocks and rearrange them in a new order.\n",
    "\n",
    "\n",
    "#### Understanding view\n",
    "Now, view is a bit different. It’s like having the blocks on a fixed tray. When\n",
    "you use view, PyTorch tries to just tilt or turn the tray to make the new shape,\n",
    "without actually picking up and moving the blocks. This method is quicker but can\n",
    "only be used if the new shape doesn’t require rearranging the blocks."
   ]
  },
  {
   "cell_type": "markdown",
   "metadata": {
    "collapsed": false
   },
   "source": [
    "## Dot Product"
   ]
  },
  {
   "cell_type": "markdown",
   "metadata": {
    "collapsed": false
   },
   "source": [
    "DotProduct(A, B) = a1b1 + a2b2 + · · · + an ∗ bn"
   ]
  },
  {
   "cell_type": "markdown",
   "metadata": {
    "collapsed": false
   },
   "source": [
    "### Role in Machine Learning and Deep Learning.\n",
    "• Calculating Weights: In neural networks, the dot product is used to calculate the weighted sum of inputs and weights. This is a fundamental aspect of\n",
    "how information gets processed in neural networks.\n",
    "• Measuring Similarity: The dot product is instrumental in algorithms that\n",
    "measure the similarity between vectors, such as in cosine similarity where it\n",
    "helps in determining the cosine of the angle between two vectors.\n",
    "• Neural Network Computations: It is extensively used in the forward pass of a neural network to compute the activations of neurons"
   ]
  },
  {
   "cell_type": "code",
   "execution_count": 19,
   "metadata": {
    "ExecuteTime": {
     "end_time": "2024-06-03T09:35:21.080555400Z",
     "start_time": "2024-06-03T09:35:21.053116900Z"
    },
    "id": "mDnIo0XuVZ5I"
   },
   "outputs": [
    {
     "name": "stdout",
     "output_type": "stream",
     "text": [
      "Dot Product: \n",
      " tensor(32)\n"
     ]
    }
   ],
   "source": [
    "# Creating two 1D tensors (vectors)\n",
    "vector_a = torch.tensor([1, 2, 3])\n",
    "vector_b = torch.tensor([4, 5, 6])\n",
    "\n",
    "# Calculating the dot product\n",
    "dot_product = torch.dot(vector_a, vector_b)\n",
    "print(\"Dot Product: \\n\", dot_product)"
   ]
  },
  {
   "cell_type": "code",
   "execution_count": null,
   "metadata": {
    "collapsed": false
   },
   "outputs": [],
   "source": []
  },
  {
   "cell_type": "code",
   "execution_count": null,
   "metadata": {},
   "outputs": [],
   "source": []
  }
 ],
 "metadata": {
  "colab": {
   "provenance": []
  },
  "kernelspec": {
   "display_name": "Python 3 (ipykernel)",
   "language": "python",
   "name": "python3"
  },
  "language_info": {
   "name": "python"
  }
 },
 "nbformat": 4,
 "nbformat_minor": 0
}
